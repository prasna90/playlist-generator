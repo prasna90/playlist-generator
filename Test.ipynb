{
 "cells": [
  {
   "cell_type": "code",
   "execution_count": 2,
   "source": [
    "from os import listdir\n",
    "from os.path import isfile, join\n",
    "\n",
    "class SongName_Populator:\n",
    "    \n",
    "    def read_files_from_folder(self,path):\n",
    "        onlyfiles = [f for f in listdir(path) if isfile(join(path, f))]\n",
    "        return onlyfiles\n",
    "    \n",
    "    \n",
    "    \n",
    "\n"
   ],
   "outputs": [],
   "metadata": {}
  },
  {
   "cell_type": "code",
   "execution_count": 3,
   "source": [
    "fread = SongName_Populator()\n",
    "fread.read_files_from_folder('/media/prasanna/NELSON/Jai sankar')\n"
   ],
   "outputs": [
    {
     "output_type": "execute_result",
     "data": {
      "text/plain": [
       "['01 NAAN MALARODU  INH100207370.mp3',\n",
       " '02 PAARVAI ONDRE INH100302040.mp3',\n",
       " '03 ANGAM PUDHU INH100222850.mp3',\n",
       " '04 KUYILAAGA NAAN INH100222040.mp3',\n",
       " '05 IRUMAANGANIPOL INH100228070.mp3',\n",
       " '06 MANIVILAKKE MAANTHALIRE INH100700240.mp3',\n",
       " '07 MEDAYIL AADIDUM INH100504306.mp3',\n",
       " '08 MARANDHE POCHU INH100228080.mp3',\n",
       " '09 POOVA THALAYA INH100504002.mp3',\n",
       " '10 ENNA VEGAM INH109660230.mp3',\n",
       " '11 THOTTU THOTTU INH100113670.mp3',\n",
       " '12 ENGEYO PAARTHA INH100228060.mp3',\n",
       " '13 INNUM PAARTHU INH100118940.mp3',\n",
       " '14  MUTTHU PONNU INH100118980.mp3',\n",
       " '15 AASAYA KOBAMA INH100220040.mp3',\n",
       " '16 ENTHAN NENJAM INH100341750.mp3',\n",
       " '17 NITHAM NITHAMORU INH100228020.mp3',\n",
       " '18 KAALAM PONNAANADHU INH100228040.mp3',\n",
       " '19 KAALAI NERAM ORUVAN INH100503663.mp3',\n",
       " '20 SEVVAANATHIL ORU INH100207430.mp3',\n",
       " '21  IRAVU VARUM INH100322700.mp3',\n",
       " '22 ANUBHAVI JORA INH100701904.mp3',\n",
       " '23 ENNA MAHARANI INH100515317.mp3',\n",
       " '24 ILAMAI NAATTIYA INH100071740.mp3',\n",
       " '25 KODIYILIRUNTHU MALAR INH100207360.mp3',\n",
       " '26 ANTHA SIVAGAMI MAGANIDAM INH100503974.mp3',\n",
       " '27 O MAINA O MAINA INH100325730.mp3',\n",
       " '28 KADHAL PENNE INH100601519.mp3',\n",
       " '29 KANNIL KANDATHELLAM  INH100207320.mp3',\n",
       " '30 KONJAM NILLADI INH100119020.mp3',\n",
       " '31 KUNGUMA KOLAM INH100705827.mp3',\n",
       " '32 JILLENDRA KAATRU INH100632081.mp3',\n",
       " '33 BRINDAVANATHIL INH100118960.mp3',\n",
       " '34 NAANATHALE INH100118990.mp3',\n",
       " '35 NALLA NAAL INH100503509.mp3',\n",
       " '36 SHUT UP I SAY INH100504003.mp3',\n",
       " '37 ORUNAAL PAZHAGIYA INH100705828.mp3',\n",
       " '38 KOOTHADUM INH100513819.mp3',\n",
       " '39 NEE ENGE INH100503857.mp3',\n",
       " '40 PARANDHU SELLUM INH100607871.mp3',\n",
       " '41 SILAI SEYYA INH100325720.mp3',\n",
       " '42 SINGAPPOORU MACHAN INH100341690.mp3',\n",
       " '43 ULAGATHTHIL SIRANTHADHU INH100071370.mp3',\n",
       " '44 AADUVATHU VETRI MYIL INH100705829.mp3',\n",
       " '45 VARANUM VARANUM INH100207330.mp3',\n",
       " '46 ONEDAY ONEWAY INH100302470.mp3',\n",
       " '47 OTTHA KALLU MOOKUTH INH100705830.mp3',\n",
       " '48 VAYATHUKKU VANTHA PENNAI  INH100630789.mp3',\n",
       " '49 YEZHU DHINANGAL INH100705831.mp3',\n",
       " 'MANAM_ENNUM.MP3',\n",
       " 'Mayuren.Org - Nitham Nitham Oru   Nootrukku.mp3',\n",
       " 'Mayuren.Org - Powrnami Nilavil.mp3',\n",
       " 'Muthu Ponnu Vamma HD Song.mp3',\n",
       " 'Naan Petta Magane - Jaishankar, Usha Nandhini  - Atthaiya Mamiya -Tamil Classic Song.mp3',\n",
       " 'ORAAYIRAM_PARVAIYILE.MP3']"
      ]
     },
     "metadata": {},
     "execution_count": 3
    }
   ],
   "metadata": {}
  },
  {
   "cell_type": "code",
   "execution_count": 9,
   "source": [
    "import spotipy\n",
    "from spotipy.oauth2 import SpotifyClientCredentials"
   ],
   "outputs": [],
   "metadata": {}
  },
  {
   "cell_type": "code",
   "execution_count": 10,
   "source": [
    "cid = '9841614a2abf4e5badd6cd6bb350f2a1'\n",
    "secret = '674b294ff791400dbf6430d7c14813d8'\n",
    "\n",
    "\n",
    "#Authentication - without user\n",
    "client_credentials_manager = SpotifyClientCredentials(client_id=cid, client_secret=secret)\n",
    "sp = spotipy.Spotify(client_credentials_manager = client_credentials_manager)"
   ],
   "outputs": [],
   "metadata": {}
  },
  {
   "cell_type": "code",
   "execution_count": null,
   "source": [],
   "outputs": [],
   "metadata": {}
  },
  {
   "cell_type": "code",
   "execution_count": 23,
   "source": [],
   "outputs": [
    {
     "output_type": "error",
     "ename": "ModuleNotFoundError",
     "evalue": "No module named 'spotipy'",
     "traceback": [
      "\u001b[0;31m---------------------------------------------------------------------------\u001b[0m",
      "\u001b[0;31mModuleNotFoundError\u001b[0m                       Traceback (most recent call last)",
      "\u001b[0;32m<ipython-input-23-2025aae5fc1c>\u001b[0m in \u001b[0;36m<module>\u001b[0;34m\u001b[0m\n\u001b[0;32m----> 1\u001b[0;31m \u001b[0;32mimport\u001b[0m \u001b[0mspotipy\u001b[0m\u001b[0;34m\u001b[0m\u001b[0;34m\u001b[0m\u001b[0m\n\u001b[0m\u001b[1;32m      2\u001b[0m \u001b[0;32mfrom\u001b[0m \u001b[0mspotipy\u001b[0m\u001b[0;34m.\u001b[0m\u001b[0moauth2\u001b[0m \u001b[0;32mimport\u001b[0m \u001b[0mSpotifyClientCredentials\u001b[0m\u001b[0;34m\u001b[0m\u001b[0;34m\u001b[0m\u001b[0m\n",
      "\u001b[0;31mModuleNotFoundError\u001b[0m: No module named 'spotipy'"
     ]
    }
   ],
   "metadata": {}
  }
 ],
 "metadata": {
  "orig_nbformat": 4,
  "language_info": {
   "name": "python",
   "version": "3.7.10",
   "mimetype": "text/x-python",
   "codemirror_mode": {
    "name": "ipython",
    "version": 3
   },
   "pygments_lexer": "ipython3",
   "nbconvert_exporter": "python",
   "file_extension": ".py"
  },
  "kernelspec": {
   "name": "python3",
   "display_name": "Python 3.7.10 64-bit ('BKS': conda)"
  },
  "interpreter": {
   "hash": "58efead82583fcb12c50c40ffdab3b5ec98921b994ff8befc46a22e15c4eafe2"
  }
 },
 "nbformat": 4,
 "nbformat_minor": 2
}