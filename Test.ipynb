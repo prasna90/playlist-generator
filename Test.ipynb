{
 "cells": [
  {
   "cell_type": "code",
   "execution_count": 1,
   "metadata": {},
   "outputs": [],
   "source": [
    "from os import listdir\n",
    "from os.path import isfile, join\n",
    "import spotipy\n",
    "from spotipy.oauth2 import SpotifyClientCredentials\n",
    "import time \n",
    "import json   "
   ]
  },
  {
   "cell_type": "code",
   "execution_count": 2,
   "metadata": {},
   "outputs": [],
   "source": [
    "class SongName_Populator:\n",
    "    \n",
    "    def read_files_from_folder(self,path):\n",
    "        onlyfiles = [f for f in listdir(path) if isfile(join(path, f))]\n",
    "        return onlyfiles"
   ]
  },
  {
   "cell_type": "code",
   "execution_count": 3,
   "metadata": {},
   "outputs": [],
   "source": [
    "fread = SongName_Populator()\n",
    "fread.read_files_from_folder('/media/prasanna/NELSON/Jai sankar')\n"
   ]
  },
  {
   "cell_type": "code",
   "execution_count": 4,
   "metadata": {},
   "outputs": [],
   "source": [
    "## Spotify Element\n",
    "#Authentication - without user\n",
    "client_credentials_manager = SpotifyClientCredentials(client_id=cid, client_secret=secret)\n",
    "sp = spotipy.Spotify(client_credentials_manager = client_credentials_manager)"
   ]
  },
  {
   "cell_type": "code",
   "execution_count": 18,
   "metadata": {},
   "outputs": [
    {
     "data": {
      "text/plain": [
       "{'href': 'https://api.spotify.com/v1/users/prasanna/playlists?offset=0&limit=50',\n",
       " 'items': [],\n",
       " 'limit': 50,\n",
       " 'next': None,\n",
       " 'offset': 0,\n",
       " 'previous': None,\n",
       " 'total': 0}"
      ]
     },
     "execution_count": 18,
     "metadata": {},
     "output_type": "execute_result"
    }
   ],
   "source": [
    "#album_test = sp.artist_albums('KTV',album_type='playlist')\n",
    "sp.user_playlists('prasanna')\n"
   ]
  },
  {
   "cell_type": "code",
   "execution_count": 6,
   "metadata": {},
   "outputs": [
    {
     "data": {
      "text/plain": [
       "'\\nresults = sp.search(q=\\'Mudal mudalil\\', limit=20)\\nfor idx, track in enumerate(results[\\'tracks\\'][\\'items\\']):\\n    print(idx, track)\\n\\nsearch_str = \"Mama douser\"\\nimport pprint\\nresult = sp.search(search_str)\\n'"
      ]
     },
     "execution_count": 6,
     "metadata": {},
     "output_type": "execute_result"
    }
   ],
   "source": [
    "\"\"\"\n",
    "results = sp.search(q='Mudal mudalil', limit=20)\n",
    "for idx, track in enumerate(results['tracks']['items']):\n",
    "    print(idx, track)\n",
    "\n",
    "search_str = \"Mama douser\"\n",
    "import pprint\n",
    "result = sp.search(search_str)\n",
    "\"\"\""
   ]
  },
  {
   "cell_type": "code",
   "execution_count": 7,
   "metadata": {},
   "outputs": [
    {
     "data": {
      "text/plain": [
       "\"\\n### Spotify Audio Analysis\\ntid = 'spotify:track:36X0ZLRUavuJBSmb4YmZVO'\\nstart = time.time()\\nanalysis = sp.audio_analysis(tid)\\ndelta = time.time() - start\\nprint(json.dumps(analysis, indent=4))\\n\""
      ]
     },
     "execution_count": 7,
     "metadata": {},
     "output_type": "execute_result"
    }
   ],
   "source": [
    "\"\"\"\n",
    "### Spotify Audio Analysis\n",
    "tid = 'spotify:track:36X0ZLRUavuJBSmb4YmZVO'\n",
    "start = time.time()\n",
    "analysis = sp.audio_analysis(tid)\n",
    "delta = time.time() - start\n",
    "print(json.dumps(analysis, indent=4))\n",
    "\"\"\""
   ]
  },
  {
   "cell_type": "code",
   "execution_count": null,
   "metadata": {},
   "outputs": [],
   "source": []
  }
 ],
 "metadata": {
  "interpreter": {
   "hash": "58efead82583fcb12c50c40ffdab3b5ec98921b994ff8befc46a22e15c4eafe2"
  },
  "kernelspec": {
   "display_name": "Python 3.7.10 64-bit ('BKS': conda)",
   "name": "python3"
  },
  "language_info": {
   "codemirror_mode": {
    "name": "ipython",
    "version": 3
   },
   "file_extension": ".py",
   "mimetype": "text/x-python",
   "name": "python",
   "nbconvert_exporter": "python",
   "pygments_lexer": "ipython3",
   "version": "3.7.2"
  },
  "orig_nbformat": 4
 },
 "nbformat": 4,
 "nbformat_minor": 2
}
